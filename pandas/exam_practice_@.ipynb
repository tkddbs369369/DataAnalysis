{
 "cells": [
  {
   "cell_type": "code",
   "execution_count": 21,
   "outputs": [],
   "source": [
    "import pandas as pd"
   ],
   "metadata": {
    "collapsed": false,
    "pycharm": {
     "name": "#%%\n"
    }
   }
  },
  {
   "cell_type": "code",
   "execution_count": 22,
   "outputs": [
    {
     "data": {
      "text/plain": "국어    70\n영어    60\n수학    90\ndtype: int64"
     },
     "execution_count": 22,
     "metadata": {},
     "output_type": "execute_result"
    }
   ],
   "source": [
    "a = pd.Series([70,60,90],index=['국어','영어','수학'])\n",
    "a"
   ],
   "metadata": {
    "collapsed": false,
    "pycharm": {
     "name": "#%%\n"
    }
   }
  },
  {
   "cell_type": "code",
   "execution_count": 23,
   "outputs": [
    {
     "data": {
      "text/plain": "국어    80\n영어    60\n수학    90\ndtype: int64"
     },
     "execution_count": 23,
     "metadata": {},
     "output_type": "execute_result"
    }
   ],
   "source": [
    "a['국어']=80\n",
    "a"
   ],
   "metadata": {
    "collapsed": false,
    "pycharm": {
     "name": "#%%\n"
    }
   }
  },
  {
   "cell_type": "code",
   "execution_count": 24,
   "outputs": [
    {
     "data": {
      "text/plain": "     년도   미국    한국  중국\n0  2000  2.1  0.40  10\n1  2010  2.2  0.50  13\n2  2020  2.3  0.45  15",
      "text/html": "<div>\n<style scoped>\n    .dataframe tbody tr th:only-of-type {\n        vertical-align: middle;\n    }\n\n    .dataframe tbody tr th {\n        vertical-align: top;\n    }\n\n    .dataframe thead th {\n        text-align: right;\n    }\n</style>\n<table border=\"1\" class=\"dataframe\">\n  <thead>\n    <tr style=\"text-align: right;\">\n      <th></th>\n      <th>년도</th>\n      <th>미국</th>\n      <th>한국</th>\n      <th>중국</th>\n    </tr>\n  </thead>\n  <tbody>\n    <tr>\n      <th>0</th>\n      <td>2000</td>\n      <td>2.1</td>\n      <td>0.40</td>\n      <td>10</td>\n    </tr>\n    <tr>\n      <th>1</th>\n      <td>2010</td>\n      <td>2.2</td>\n      <td>0.50</td>\n      <td>13</td>\n    </tr>\n    <tr>\n      <th>2</th>\n      <td>2020</td>\n      <td>2.3</td>\n      <td>0.45</td>\n      <td>15</td>\n    </tr>\n  </tbody>\n</table>\n</div>"
     },
     "execution_count": 24,
     "metadata": {},
     "output_type": "execute_result"
    }
   ],
   "source": [
    "df = pd.DataFrame({\"년도\": [2000, 2010, 2020],\"미국\": [2.1, 2.2, 2.3],\"한국\": [0.4, 0.5, 0.45],\"중국\": [10, 13, 15]})\n",
    "df"
   ],
   "metadata": {
    "collapsed": false,
    "pycharm": {
     "name": "#%%\n"
    }
   }
  },
  {
   "cell_type": "code",
   "execution_count": 25,
   "outputs": [
    {
     "data": {
      "text/plain": "       미국    한국  중국\n년도                 \n2000  2.1  0.40  10\n2010  2.2  0.50  13\n2020  2.3  0.45  15",
      "text/html": "<div>\n<style scoped>\n    .dataframe tbody tr th:only-of-type {\n        vertical-align: middle;\n    }\n\n    .dataframe tbody tr th {\n        vertical-align: top;\n    }\n\n    .dataframe thead th {\n        text-align: right;\n    }\n</style>\n<table border=\"1\" class=\"dataframe\">\n  <thead>\n    <tr style=\"text-align: right;\">\n      <th></th>\n      <th>미국</th>\n      <th>한국</th>\n      <th>중국</th>\n    </tr>\n    <tr>\n      <th>년도</th>\n      <th></th>\n      <th></th>\n      <th></th>\n    </tr>\n  </thead>\n  <tbody>\n    <tr>\n      <th>2000</th>\n      <td>2.1</td>\n      <td>0.40</td>\n      <td>10</td>\n    </tr>\n    <tr>\n      <th>2010</th>\n      <td>2.2</td>\n      <td>0.50</td>\n      <td>13</td>\n    </tr>\n    <tr>\n      <th>2020</th>\n      <td>2.3</td>\n      <td>0.45</td>\n      <td>15</td>\n    </tr>\n  </tbody>\n</table>\n</div>"
     },
     "execution_count": 25,
     "metadata": {},
     "output_type": "execute_result"
    }
   ],
   "source": [
    "df = df.set_index('년도')\n",
    "df"
   ],
   "metadata": {
    "collapsed": false,
    "pycharm": {
     "name": "#%%\n"
    }
   }
  },
  {
   "cell_type": "code",
   "execution_count": 26,
   "outputs": [
    {
     "data": {
      "text/plain": "미국     2.1\n한국     0.4\n중국    10.0\nName: 2000, dtype: float64"
     },
     "execution_count": 26,
     "metadata": {},
     "output_type": "execute_result"
    }
   ],
   "source": [
    "df.iloc[0]"
   ],
   "metadata": {
    "collapsed": false,
    "pycharm": {
     "name": "#%%\n"
    }
   }
  },
  {
   "cell_type": "code",
   "execution_count": 27,
   "outputs": [
    {
     "data": {
      "text/plain": "미국     2.1\n한국     0.4\n중국    10.0\nName: 2000, dtype: float64"
     },
     "execution_count": 27,
     "metadata": {},
     "output_type": "execute_result"
    }
   ],
   "source": [
    "df.loc[2000]"
   ],
   "metadata": {
    "collapsed": false,
    "pycharm": {
     "name": "#%%\n"
    }
   }
  },
  {
   "cell_type": "code",
   "execution_count": 29,
   "outputs": [
    {
     "data": {
      "text/plain": "          country continent  year  lifeExp       pop   gdpPercap\n0     Afghanistan      Asia  1952   28.801   8425333  779.445314\n1     Afghanistan      Asia  1957   30.332   9240934  820.853030\n2     Afghanistan      Asia  1962   31.997  10267083  853.100710\n3     Afghanistan      Asia  1967   34.020  11537966  836.197138\n4     Afghanistan      Asia  1972   36.088  13079460  739.981106\n...           ...       ...   ...      ...       ...         ...\n1699     Zimbabwe    Africa  1987   62.351   9216418  706.157306\n1700     Zimbabwe    Africa  1992   60.377  10704340  693.420786\n1701     Zimbabwe    Africa  1997   46.809  11404948  792.449960\n1702     Zimbabwe    Africa  2002   39.989  11926563  672.038623\n1703     Zimbabwe    Africa  2007   43.487  12311143  469.709298\n\n[1704 rows x 6 columns]",
      "text/html": "<div>\n<style scoped>\n    .dataframe tbody tr th:only-of-type {\n        vertical-align: middle;\n    }\n\n    .dataframe tbody tr th {\n        vertical-align: top;\n    }\n\n    .dataframe thead th {\n        text-align: right;\n    }\n</style>\n<table border=\"1\" class=\"dataframe\">\n  <thead>\n    <tr style=\"text-align: right;\">\n      <th></th>\n      <th>country</th>\n      <th>continent</th>\n      <th>year</th>\n      <th>lifeExp</th>\n      <th>pop</th>\n      <th>gdpPercap</th>\n    </tr>\n  </thead>\n  <tbody>\n    <tr>\n      <th>0</th>\n      <td>Afghanistan</td>\n      <td>Asia</td>\n      <td>1952</td>\n      <td>28.801</td>\n      <td>8425333</td>\n      <td>779.445314</td>\n    </tr>\n    <tr>\n      <th>1</th>\n      <td>Afghanistan</td>\n      <td>Asia</td>\n      <td>1957</td>\n      <td>30.332</td>\n      <td>9240934</td>\n      <td>820.853030</td>\n    </tr>\n    <tr>\n      <th>2</th>\n      <td>Afghanistan</td>\n      <td>Asia</td>\n      <td>1962</td>\n      <td>31.997</td>\n      <td>10267083</td>\n      <td>853.100710</td>\n    </tr>\n    <tr>\n      <th>3</th>\n      <td>Afghanistan</td>\n      <td>Asia</td>\n      <td>1967</td>\n      <td>34.020</td>\n      <td>11537966</td>\n      <td>836.197138</td>\n    </tr>\n    <tr>\n      <th>4</th>\n      <td>Afghanistan</td>\n      <td>Asia</td>\n      <td>1972</td>\n      <td>36.088</td>\n      <td>13079460</td>\n      <td>739.981106</td>\n    </tr>\n    <tr>\n      <th>...</th>\n      <td>...</td>\n      <td>...</td>\n      <td>...</td>\n      <td>...</td>\n      <td>...</td>\n      <td>...</td>\n    </tr>\n    <tr>\n      <th>1699</th>\n      <td>Zimbabwe</td>\n      <td>Africa</td>\n      <td>1987</td>\n      <td>62.351</td>\n      <td>9216418</td>\n      <td>706.157306</td>\n    </tr>\n    <tr>\n      <th>1700</th>\n      <td>Zimbabwe</td>\n      <td>Africa</td>\n      <td>1992</td>\n      <td>60.377</td>\n      <td>10704340</td>\n      <td>693.420786</td>\n    </tr>\n    <tr>\n      <th>1701</th>\n      <td>Zimbabwe</td>\n      <td>Africa</td>\n      <td>1997</td>\n      <td>46.809</td>\n      <td>11404948</td>\n      <td>792.449960</td>\n    </tr>\n    <tr>\n      <th>1702</th>\n      <td>Zimbabwe</td>\n      <td>Africa</td>\n      <td>2002</td>\n      <td>39.989</td>\n      <td>11926563</td>\n      <td>672.038623</td>\n    </tr>\n    <tr>\n      <th>1703</th>\n      <td>Zimbabwe</td>\n      <td>Africa</td>\n      <td>2007</td>\n      <td>43.487</td>\n      <td>12311143</td>\n      <td>469.709298</td>\n    </tr>\n  </tbody>\n</table>\n<p>1704 rows × 6 columns</p>\n</div>"
     },
     "execution_count": 29,
     "metadata": {},
     "output_type": "execute_result"
    }
   ],
   "source": [
    "df = pd.read_csv('gapminder.tsv', sep='\\t')\n",
    "df"
   ],
   "metadata": {
    "collapsed": false,
    "pycharm": {
     "name": "#%%\n"
    }
   }
  },
  {
   "cell_type": "code",
   "execution_count": 31,
   "outputs": [
    {
     "data": {
      "text/plain": "(1704, 6)"
     },
     "execution_count": 31,
     "metadata": {},
     "output_type": "execute_result"
    }
   ],
   "source": [
    "df.shape"
   ],
   "metadata": {
    "collapsed": false,
    "pycharm": {
     "name": "#%%\n"
    }
   }
  },
  {
   "cell_type": "code",
   "execution_count": 33,
   "outputs": [
    {
     "data": {
      "text/plain": "Index(['country', 'continent', 'year', 'lifeExp', 'pop', 'gdpPercap'], dtype='object')"
     },
     "execution_count": 33,
     "metadata": {},
     "output_type": "execute_result"
    }
   ],
   "source": [
    "df.columns"
   ],
   "metadata": {
    "collapsed": false,
    "pycharm": {
     "name": "#%%\n"
    }
   }
  },
  {
   "cell_type": "code",
   "execution_count": 35,
   "outputs": [
    {
     "data": {
      "text/plain": "country       object\ncontinent     object\nyear           int64\nlifeExp      float64\npop            int64\ngdpPercap    float64\ndtype: object"
     },
     "execution_count": 35,
     "metadata": {},
     "output_type": "execute_result"
    }
   ],
   "source": [
    "df.dtypes"
   ],
   "metadata": {
    "collapsed": false,
    "pycharm": {
     "name": "#%%\n"
    }
   }
  },
  {
   "cell_type": "code",
   "execution_count": 36,
   "outputs": [
    {
     "name": "stdout",
     "output_type": "stream",
     "text": [
      "<class 'pandas.core.frame.DataFrame'>\n",
      "RangeIndex: 1704 entries, 0 to 1703\n",
      "Data columns (total 6 columns):\n",
      " #   Column     Non-Null Count  Dtype  \n",
      "---  ------     --------------  -----  \n",
      " 0   country    1704 non-null   object \n",
      " 1   continent  1704 non-null   object \n",
      " 2   year       1704 non-null   int64  \n",
      " 3   lifeExp    1704 non-null   float64\n",
      " 4   pop        1704 non-null   int64  \n",
      " 5   gdpPercap  1704 non-null   float64\n",
      "dtypes: float64(2), int64(2), object(2)\n",
      "memory usage: 80.0+ KB\n"
     ]
    }
   ],
   "source": [
    "df.info()"
   ],
   "metadata": {
    "collapsed": false,
    "pycharm": {
     "name": "#%%\n"
    }
   }
  },
  {
   "cell_type": "code",
   "execution_count": 38,
   "outputs": [
    {
     "data": {
      "text/plain": "0    Afghanistan\n1    Afghanistan\n2    Afghanistan\n3    Afghanistan\n4    Afghanistan\nName: country, dtype: object"
     },
     "execution_count": 38,
     "metadata": {},
     "output_type": "execute_result"
    }
   ],
   "source": [
    "df.country.head()"
   ],
   "metadata": {
    "collapsed": false,
    "pycharm": {
     "name": "#%%\n"
    }
   }
  },
  {
   "cell_type": "code",
   "execution_count": 45,
   "outputs": [
    {
     "data": {
      "text/plain": "   year       pop\n0  1952   8425333\n1  1957   9240934\n2  1962  10267083\n3  1967  11537966\n4  1972  13079460",
      "text/html": "<div>\n<style scoped>\n    .dataframe tbody tr th:only-of-type {\n        vertical-align: middle;\n    }\n\n    .dataframe tbody tr th {\n        vertical-align: top;\n    }\n\n    .dataframe thead th {\n        text-align: right;\n    }\n</style>\n<table border=\"1\" class=\"dataframe\">\n  <thead>\n    <tr style=\"text-align: right;\">\n      <th></th>\n      <th>year</th>\n      <th>pop</th>\n    </tr>\n  </thead>\n  <tbody>\n    <tr>\n      <th>0</th>\n      <td>1952</td>\n      <td>8425333</td>\n    </tr>\n    <tr>\n      <th>1</th>\n      <td>1957</td>\n      <td>9240934</td>\n    </tr>\n    <tr>\n      <th>2</th>\n      <td>1962</td>\n      <td>10267083</td>\n    </tr>\n    <tr>\n      <th>3</th>\n      <td>1967</td>\n      <td>11537966</td>\n    </tr>\n    <tr>\n      <th>4</th>\n      <td>1972</td>\n      <td>13079460</td>\n    </tr>\n  </tbody>\n</table>\n</div>"
     },
     "execution_count": 45,
     "metadata": {},
     "output_type": "execute_result"
    }
   ],
   "source": [
    "df.loc[:,['year','pop']].head()"
   ],
   "metadata": {
    "collapsed": false,
    "pycharm": {
     "name": "#%%\n"
    }
   }
  },
  {
   "cell_type": "code",
   "execution_count": 47,
   "outputs": [
    {
     "data": {
      "text/plain": "0    Afghanistan\n1    Afghanistan\n2    Afghanistan\n3    Afghanistan\n4    Afghanistan\nName: country, dtype: object"
     },
     "execution_count": 47,
     "metadata": {},
     "output_type": "execute_result"
    }
   ],
   "source": [
    "df.country.head()"
   ],
   "metadata": {
    "collapsed": false,
    "pycharm": {
     "name": "#%%\n"
    }
   }
  },
  {
   "cell_type": "code",
   "execution_count": 49,
   "outputs": [
    {
     "data": {
      "text/plain": "   year       pop\n0  1952   8425333\n1  1957   9240934\n2  1962  10267083\n3  1967  11537966\n4  1972  13079460",
      "text/html": "<div>\n<style scoped>\n    .dataframe tbody tr th:only-of-type {\n        vertical-align: middle;\n    }\n\n    .dataframe tbody tr th {\n        vertical-align: top;\n    }\n\n    .dataframe thead th {\n        text-align: right;\n    }\n</style>\n<table border=\"1\" class=\"dataframe\">\n  <thead>\n    <tr style=\"text-align: right;\">\n      <th></th>\n      <th>year</th>\n      <th>pop</th>\n    </tr>\n  </thead>\n  <tbody>\n    <tr>\n      <th>0</th>\n      <td>1952</td>\n      <td>8425333</td>\n    </tr>\n    <tr>\n      <th>1</th>\n      <td>1957</td>\n      <td>9240934</td>\n    </tr>\n    <tr>\n      <th>2</th>\n      <td>1962</td>\n      <td>10267083</td>\n    </tr>\n    <tr>\n      <th>3</th>\n      <td>1967</td>\n      <td>11537966</td>\n    </tr>\n    <tr>\n      <th>4</th>\n      <td>1972</td>\n      <td>13079460</td>\n    </tr>\n  </tbody>\n</table>\n</div>"
     },
     "execution_count": 49,
     "metadata": {},
     "output_type": "execute_result"
    }
   ],
   "source": [
    "df.loc[:,['year','pop']].head()"
   ],
   "metadata": {
    "collapsed": false,
    "pycharm": {
     "name": "#%%\n"
    }
   }
  },
  {
   "cell_type": "code",
   "execution_count": 50,
   "outputs": [
    {
     "data": {
      "text/plain": "         country  lifeExp    gdpPercap\n0    Afghanistan   28.801   779.445314\n99    Bangladesh   43.453   721.186086\n999     Mongolia   51.253  1226.041130",
      "text/html": "<div>\n<style scoped>\n    .dataframe tbody tr th:only-of-type {\n        vertical-align: middle;\n    }\n\n    .dataframe tbody tr th {\n        vertical-align: top;\n    }\n\n    .dataframe thead th {\n        text-align: right;\n    }\n</style>\n<table border=\"1\" class=\"dataframe\">\n  <thead>\n    <tr style=\"text-align: right;\">\n      <th></th>\n      <th>country</th>\n      <th>lifeExp</th>\n      <th>gdpPercap</th>\n    </tr>\n  </thead>\n  <tbody>\n    <tr>\n      <th>0</th>\n      <td>Afghanistan</td>\n      <td>28.801</td>\n      <td>779.445314</td>\n    </tr>\n    <tr>\n      <th>99</th>\n      <td>Bangladesh</td>\n      <td>43.453</td>\n      <td>721.186086</td>\n    </tr>\n    <tr>\n      <th>999</th>\n      <td>Mongolia</td>\n      <td>51.253</td>\n      <td>1226.041130</td>\n    </tr>\n  </tbody>\n</table>\n</div>"
     },
     "execution_count": 50,
     "metadata": {},
     "output_type": "execute_result"
    }
   ],
   "source": [
    "df.iloc[[0,99,999],[0,3,5]]"
   ],
   "metadata": {
    "collapsed": false,
    "pycharm": {
     "name": "#%%\n"
    }
   }
  },
  {
   "cell_type": "code",
   "execution_count": 51,
   "outputs": [
    {
     "data": {
      "text/plain": "         country  lifeExp    gdpPercap\n0    Afghanistan   28.801   779.445314\n99    Bangladesh   43.453   721.186086\n999     Mongolia   51.253  1226.041130",
      "text/html": "<div>\n<style scoped>\n    .dataframe tbody tr th:only-of-type {\n        vertical-align: middle;\n    }\n\n    .dataframe tbody tr th {\n        vertical-align: top;\n    }\n\n    .dataframe thead th {\n        text-align: right;\n    }\n</style>\n<table border=\"1\" class=\"dataframe\">\n  <thead>\n    <tr style=\"text-align: right;\">\n      <th></th>\n      <th>country</th>\n      <th>lifeExp</th>\n      <th>gdpPercap</th>\n    </tr>\n  </thead>\n  <tbody>\n    <tr>\n      <th>0</th>\n      <td>Afghanistan</td>\n      <td>28.801</td>\n      <td>779.445314</td>\n    </tr>\n    <tr>\n      <th>99</th>\n      <td>Bangladesh</td>\n      <td>43.453</td>\n      <td>721.186086</td>\n    </tr>\n    <tr>\n      <th>999</th>\n      <td>Mongolia</td>\n      <td>51.253</td>\n      <td>1226.041130</td>\n    </tr>\n  </tbody>\n</table>\n</div>"
     },
     "execution_count": 51,
     "metadata": {},
     "output_type": "execute_result"
    }
   ],
   "source": [
    "df.loc[[0,99,999],['country','lifeExp','gdpPercap']]"
   ],
   "metadata": {
    "collapsed": false,
    "pycharm": {
     "name": "#%%\n"
    }
   }
  },
  {
   "cell_type": "code",
   "execution_count": 53,
   "outputs": [
    {
     "data": {
      "text/plain": "        country  lifeExp    gdpPercap\n10  Afghanistan   42.129   726.734055\n11  Afghanistan   43.828   974.580338\n12      Albania   55.230  1601.056136\n13      Albania   59.280  1942.284244",
      "text/html": "<div>\n<style scoped>\n    .dataframe tbody tr th:only-of-type {\n        vertical-align: middle;\n    }\n\n    .dataframe tbody tr th {\n        vertical-align: top;\n    }\n\n    .dataframe thead th {\n        text-align: right;\n    }\n</style>\n<table border=\"1\" class=\"dataframe\">\n  <thead>\n    <tr style=\"text-align: right;\">\n      <th></th>\n      <th>country</th>\n      <th>lifeExp</th>\n      <th>gdpPercap</th>\n    </tr>\n  </thead>\n  <tbody>\n    <tr>\n      <th>10</th>\n      <td>Afghanistan</td>\n      <td>42.129</td>\n      <td>726.734055</td>\n    </tr>\n    <tr>\n      <th>11</th>\n      <td>Afghanistan</td>\n      <td>43.828</td>\n      <td>974.580338</td>\n    </tr>\n    <tr>\n      <th>12</th>\n      <td>Albania</td>\n      <td>55.230</td>\n      <td>1601.056136</td>\n    </tr>\n    <tr>\n      <th>13</th>\n      <td>Albania</td>\n      <td>59.280</td>\n      <td>1942.284244</td>\n    </tr>\n  </tbody>\n</table>\n</div>"
     },
     "execution_count": 53,
     "metadata": {},
     "output_type": "execute_result"
    }
   ],
   "source": [
    "df.loc[10:13,['country','lifeExp','gdpPercap']]"
   ],
   "metadata": {
    "collapsed": false,
    "pycharm": {
     "name": "#%%\n"
    }
   }
  },
  {
   "cell_type": "code",
   "execution_count": 55,
   "outputs": [
    {
     "data": {
      "text/plain": "year\n1952    49.057620\n1957    51.507401\n1962    53.609249\n1967    55.678290\n1972    57.647386\n1977    59.570157\n1982    61.533197\n1987    63.212613\n1992    64.160338\n1997    65.014676\n2002    65.694923\n2007    67.007423\nName: lifeExp, dtype: float64"
     },
     "execution_count": 55,
     "metadata": {},
     "output_type": "execute_result"
    }
   ],
   "source": [
    "df.groupby('year')['lifeExp'].mean()"
   ],
   "metadata": {
    "collapsed": false,
    "pycharm": {
     "name": "#%%\n"
    }
   }
  },
  {
   "cell_type": "code",
   "execution_count": 69,
   "outputs": [
    {
     "data": {
      "text/plain": "                  lifeExp     gdpPercap\nyear continent                         \n1952 Africa     39.135500   1252.572466\n     Americas   53.279840   4079.062552\n     Asia       46.314394   5195.484004\n     Europe     64.408500   5661.057435\n     Oceania    69.255000  10298.085650\n1957 Africa     41.266346   1385.236062\n     Americas   55.960280   4616.043733\n     Asia       49.318544   5787.732940\n     Europe     66.703067   6963.012816\n     Oceania    70.295000  11598.522455\n1962 Africa     43.319442   1598.078825\n     Americas   58.398760   4901.541870\n     Asia       51.563223   5729.369625\n     Europe     68.539233   8365.486814\n     Oceania    71.085000  12696.452430\n1967 Africa     45.334538   2050.363801\n     Americas   60.410920   5668.253496\n     Asia       54.663640   5971.173374\n     Europe     69.737600  10143.823757\n     Oceania    71.310000  14495.021790\n1972 Africa     47.450942   2339.615674\n     Americas   62.394920   6491.334139\n     Asia       57.319269   8187.468699\n     Europe     70.775033  12479.575246\n     Oceania    71.910000  16417.333380\n1977 Africa     49.580423   2585.938508\n     Americas   64.391560   7352.007126\n     Asia       59.610556   7791.314020\n     Europe     71.937767  14283.979110\n     Oceania    72.855000  17283.957605\n1982 Africa     51.592865   2481.592960\n     Americas   66.228840   7506.737088\n     Asia       62.617939   7434.135157\n     Europe     72.806400  15617.896551\n     Oceania    74.290000  18554.709840\n1987 Africa     53.344788   2282.668991\n     Americas   68.090720   7793.400261\n     Asia       64.851182   7608.226508\n     Europe     73.642167  17214.310727\n     Oceania    75.320000  20448.040160\n1992 Africa     53.629577   2281.810333\n     Americas   69.568360   8044.934406\n     Asia       66.537212   8639.690248\n     Europe     74.440100  17061.568084\n     Oceania    76.945000  20894.045885\n1997 Africa     53.598269   2378.759555\n     Americas   71.150480   8889.300863\n     Asia       68.020515   9834.093295\n     Europe     75.505167  19076.781802\n     Oceania    78.190000  24024.175170\n2002 Africa     53.325231   2599.385159\n     Americas   72.422040   9287.677107\n     Asia       69.233879  10174.090397\n     Europe     76.700600  21711.732422\n     Oceania    79.740000  26938.778040\n2007 Africa     54.806038   3089.032605\n     Americas   73.608120  11003.031625\n     Asia       70.728485  12473.026870\n     Europe     77.648600  25054.481636\n     Oceania    80.719500  29810.188275",
      "text/html": "<div>\n<style scoped>\n    .dataframe tbody tr th:only-of-type {\n        vertical-align: middle;\n    }\n\n    .dataframe tbody tr th {\n        vertical-align: top;\n    }\n\n    .dataframe thead th {\n        text-align: right;\n    }\n</style>\n<table border=\"1\" class=\"dataframe\">\n  <thead>\n    <tr style=\"text-align: right;\">\n      <th></th>\n      <th></th>\n      <th>lifeExp</th>\n      <th>gdpPercap</th>\n    </tr>\n    <tr>\n      <th>year</th>\n      <th>continent</th>\n      <th></th>\n      <th></th>\n    </tr>\n  </thead>\n  <tbody>\n    <tr>\n      <th rowspan=\"5\" valign=\"top\">1952</th>\n      <th>Africa</th>\n      <td>39.135500</td>\n      <td>1252.572466</td>\n    </tr>\n    <tr>\n      <th>Americas</th>\n      <td>53.279840</td>\n      <td>4079.062552</td>\n    </tr>\n    <tr>\n      <th>Asia</th>\n      <td>46.314394</td>\n      <td>5195.484004</td>\n    </tr>\n    <tr>\n      <th>Europe</th>\n      <td>64.408500</td>\n      <td>5661.057435</td>\n    </tr>\n    <tr>\n      <th>Oceania</th>\n      <td>69.255000</td>\n      <td>10298.085650</td>\n    </tr>\n    <tr>\n      <th rowspan=\"5\" valign=\"top\">1957</th>\n      <th>Africa</th>\n      <td>41.266346</td>\n      <td>1385.236062</td>\n    </tr>\n    <tr>\n      <th>Americas</th>\n      <td>55.960280</td>\n      <td>4616.043733</td>\n    </tr>\n    <tr>\n      <th>Asia</th>\n      <td>49.318544</td>\n      <td>5787.732940</td>\n    </tr>\n    <tr>\n      <th>Europe</th>\n      <td>66.703067</td>\n      <td>6963.012816</td>\n    </tr>\n    <tr>\n      <th>Oceania</th>\n      <td>70.295000</td>\n      <td>11598.522455</td>\n    </tr>\n    <tr>\n      <th rowspan=\"5\" valign=\"top\">1962</th>\n      <th>Africa</th>\n      <td>43.319442</td>\n      <td>1598.078825</td>\n    </tr>\n    <tr>\n      <th>Americas</th>\n      <td>58.398760</td>\n      <td>4901.541870</td>\n    </tr>\n    <tr>\n      <th>Asia</th>\n      <td>51.563223</td>\n      <td>5729.369625</td>\n    </tr>\n    <tr>\n      <th>Europe</th>\n      <td>68.539233</td>\n      <td>8365.486814</td>\n    </tr>\n    <tr>\n      <th>Oceania</th>\n      <td>71.085000</td>\n      <td>12696.452430</td>\n    </tr>\n    <tr>\n      <th rowspan=\"5\" valign=\"top\">1967</th>\n      <th>Africa</th>\n      <td>45.334538</td>\n      <td>2050.363801</td>\n    </tr>\n    <tr>\n      <th>Americas</th>\n      <td>60.410920</td>\n      <td>5668.253496</td>\n    </tr>\n    <tr>\n      <th>Asia</th>\n      <td>54.663640</td>\n      <td>5971.173374</td>\n    </tr>\n    <tr>\n      <th>Europe</th>\n      <td>69.737600</td>\n      <td>10143.823757</td>\n    </tr>\n    <tr>\n      <th>Oceania</th>\n      <td>71.310000</td>\n      <td>14495.021790</td>\n    </tr>\n    <tr>\n      <th rowspan=\"5\" valign=\"top\">1972</th>\n      <th>Africa</th>\n      <td>47.450942</td>\n      <td>2339.615674</td>\n    </tr>\n    <tr>\n      <th>Americas</th>\n      <td>62.394920</td>\n      <td>6491.334139</td>\n    </tr>\n    <tr>\n      <th>Asia</th>\n      <td>57.319269</td>\n      <td>8187.468699</td>\n    </tr>\n    <tr>\n      <th>Europe</th>\n      <td>70.775033</td>\n      <td>12479.575246</td>\n    </tr>\n    <tr>\n      <th>Oceania</th>\n      <td>71.910000</td>\n      <td>16417.333380</td>\n    </tr>\n    <tr>\n      <th rowspan=\"5\" valign=\"top\">1977</th>\n      <th>Africa</th>\n      <td>49.580423</td>\n      <td>2585.938508</td>\n    </tr>\n    <tr>\n      <th>Americas</th>\n      <td>64.391560</td>\n      <td>7352.007126</td>\n    </tr>\n    <tr>\n      <th>Asia</th>\n      <td>59.610556</td>\n      <td>7791.314020</td>\n    </tr>\n    <tr>\n      <th>Europe</th>\n      <td>71.937767</td>\n      <td>14283.979110</td>\n    </tr>\n    <tr>\n      <th>Oceania</th>\n      <td>72.855000</td>\n      <td>17283.957605</td>\n    </tr>\n    <tr>\n      <th rowspan=\"5\" valign=\"top\">1982</th>\n      <th>Africa</th>\n      <td>51.592865</td>\n      <td>2481.592960</td>\n    </tr>\n    <tr>\n      <th>Americas</th>\n      <td>66.228840</td>\n      <td>7506.737088</td>\n    </tr>\n    <tr>\n      <th>Asia</th>\n      <td>62.617939</td>\n      <td>7434.135157</td>\n    </tr>\n    <tr>\n      <th>Europe</th>\n      <td>72.806400</td>\n      <td>15617.896551</td>\n    </tr>\n    <tr>\n      <th>Oceania</th>\n      <td>74.290000</td>\n      <td>18554.709840</td>\n    </tr>\n    <tr>\n      <th rowspan=\"5\" valign=\"top\">1987</th>\n      <th>Africa</th>\n      <td>53.344788</td>\n      <td>2282.668991</td>\n    </tr>\n    <tr>\n      <th>Americas</th>\n      <td>68.090720</td>\n      <td>7793.400261</td>\n    </tr>\n    <tr>\n      <th>Asia</th>\n      <td>64.851182</td>\n      <td>7608.226508</td>\n    </tr>\n    <tr>\n      <th>Europe</th>\n      <td>73.642167</td>\n      <td>17214.310727</td>\n    </tr>\n    <tr>\n      <th>Oceania</th>\n      <td>75.320000</td>\n      <td>20448.040160</td>\n    </tr>\n    <tr>\n      <th rowspan=\"5\" valign=\"top\">1992</th>\n      <th>Africa</th>\n      <td>53.629577</td>\n      <td>2281.810333</td>\n    </tr>\n    <tr>\n      <th>Americas</th>\n      <td>69.568360</td>\n      <td>8044.934406</td>\n    </tr>\n    <tr>\n      <th>Asia</th>\n      <td>66.537212</td>\n      <td>8639.690248</td>\n    </tr>\n    <tr>\n      <th>Europe</th>\n      <td>74.440100</td>\n      <td>17061.568084</td>\n    </tr>\n    <tr>\n      <th>Oceania</th>\n      <td>76.945000</td>\n      <td>20894.045885</td>\n    </tr>\n    <tr>\n      <th rowspan=\"5\" valign=\"top\">1997</th>\n      <th>Africa</th>\n      <td>53.598269</td>\n      <td>2378.759555</td>\n    </tr>\n    <tr>\n      <th>Americas</th>\n      <td>71.150480</td>\n      <td>8889.300863</td>\n    </tr>\n    <tr>\n      <th>Asia</th>\n      <td>68.020515</td>\n      <td>9834.093295</td>\n    </tr>\n    <tr>\n      <th>Europe</th>\n      <td>75.505167</td>\n      <td>19076.781802</td>\n    </tr>\n    <tr>\n      <th>Oceania</th>\n      <td>78.190000</td>\n      <td>24024.175170</td>\n    </tr>\n    <tr>\n      <th rowspan=\"5\" valign=\"top\">2002</th>\n      <th>Africa</th>\n      <td>53.325231</td>\n      <td>2599.385159</td>\n    </tr>\n    <tr>\n      <th>Americas</th>\n      <td>72.422040</td>\n      <td>9287.677107</td>\n    </tr>\n    <tr>\n      <th>Asia</th>\n      <td>69.233879</td>\n      <td>10174.090397</td>\n    </tr>\n    <tr>\n      <th>Europe</th>\n      <td>76.700600</td>\n      <td>21711.732422</td>\n    </tr>\n    <tr>\n      <th>Oceania</th>\n      <td>79.740000</td>\n      <td>26938.778040</td>\n    </tr>\n    <tr>\n      <th rowspan=\"5\" valign=\"top\">2007</th>\n      <th>Africa</th>\n      <td>54.806038</td>\n      <td>3089.032605</td>\n    </tr>\n    <tr>\n      <th>Americas</th>\n      <td>73.608120</td>\n      <td>11003.031625</td>\n    </tr>\n    <tr>\n      <th>Asia</th>\n      <td>70.728485</td>\n      <td>12473.026870</td>\n    </tr>\n    <tr>\n      <th>Europe</th>\n      <td>77.648600</td>\n      <td>25054.481636</td>\n    </tr>\n    <tr>\n      <th>Oceania</th>\n      <td>80.719500</td>\n      <td>29810.188275</td>\n    </tr>\n  </tbody>\n</table>\n</div>"
     },
     "execution_count": 69,
     "metadata": {},
     "output_type": "execute_result"
    }
   ],
   "source": [
    "df.groupby(['year','continent'])[['lifeExp','gdpPercap']].mean()"
   ],
   "metadata": {
    "collapsed": false,
    "pycharm": {
     "name": "#%%\n"
    }
   }
  },
  {
   "cell_type": "code",
   "execution_count": 71,
   "outputs": [
    {
     "data": {
      "text/plain": "continent\nAfrica      52\nAmericas    25\nAsia        33\nEurope      30\nOceania      2\nName: country, dtype: int64"
     },
     "execution_count": 71,
     "metadata": {},
     "output_type": "execute_result"
    }
   ],
   "source": [
    "df.groupby('continent')['country'].nunique()"
   ],
   "metadata": {
    "collapsed": false,
    "pycharm": {
     "name": "#%%\n"
    }
   }
  }
 ],
 "metadata": {
  "kernelspec": {
   "display_name": "Python 3",
   "language": "python",
   "name": "python3"
  },
  "language_info": {
   "codemirror_mode": {
    "name": "ipython",
    "version": 2
   },
   "file_extension": ".py",
   "mimetype": "text/x-python",
   "name": "python",
   "nbconvert_exporter": "python",
   "pygments_lexer": "ipython2",
   "version": "2.7.6"
  }
 },
 "nbformat": 4,
 "nbformat_minor": 0
}