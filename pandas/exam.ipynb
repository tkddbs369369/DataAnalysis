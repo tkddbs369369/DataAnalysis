{
 "cells": [
  {
   "cell_type": "code",
   "execution_count": 1,
   "metadata": {
    "collapsed": true,
    "pycharm": {
     "name": "#%%\n"
    }
   },
   "outputs": [
    {
     "data": {
      "text/plain": "         country  lifeExp    gdpPercap\n0    Afghanistan   28.801   779.445314\n99    Bangladesh   43.453   721.186086\n999     Mongolia   51.253  1226.041130",
      "text/html": "<div>\n<style scoped>\n    .dataframe tbody tr th:only-of-type {\n        vertical-align: middle;\n    }\n\n    .dataframe tbody tr th {\n        vertical-align: top;\n    }\n\n    .dataframe thead th {\n        text-align: right;\n    }\n</style>\n<table border=\"1\" class=\"dataframe\">\n  <thead>\n    <tr style=\"text-align: right;\">\n      <th></th>\n      <th>country</th>\n      <th>lifeExp</th>\n      <th>gdpPercap</th>\n    </tr>\n  </thead>\n  <tbody>\n    <tr>\n      <th>0</th>\n      <td>Afghanistan</td>\n      <td>28.801</td>\n      <td>779.445314</td>\n    </tr>\n    <tr>\n      <th>99</th>\n      <td>Bangladesh</td>\n      <td>43.453</td>\n      <td>721.186086</td>\n    </tr>\n    <tr>\n      <th>999</th>\n      <td>Mongolia</td>\n      <td>51.253</td>\n      <td>1226.041130</td>\n    </tr>\n  </tbody>\n</table>\n</div>"
     },
     "execution_count": 1,
     "metadata": {},
     "output_type": "execute_result"
    }
   ],
   "source": [
    "#13\n",
    "import pandas as pd\n",
    "df = pd.read_csv('gapminder.tsv', sep='\\t')\n",
    "df.iloc[[0,99,999], [0,3,5]]"
   ]
  },
  {
   "cell_type": "code",
   "execution_count": 2,
   "outputs": [
    {
     "data": {
      "text/plain": "         country  lifeExp    gdpPercap\n0    Afghanistan   28.801   779.445314\n99    Bangladesh   43.453   721.186086\n999     Mongolia   51.253  1226.041130",
      "text/html": "<div>\n<style scoped>\n    .dataframe tbody tr th:only-of-type {\n        vertical-align: middle;\n    }\n\n    .dataframe tbody tr th {\n        vertical-align: top;\n    }\n\n    .dataframe thead th {\n        text-align: right;\n    }\n</style>\n<table border=\"1\" class=\"dataframe\">\n  <thead>\n    <tr style=\"text-align: right;\">\n      <th></th>\n      <th>country</th>\n      <th>lifeExp</th>\n      <th>gdpPercap</th>\n    </tr>\n  </thead>\n  <tbody>\n    <tr>\n      <th>0</th>\n      <td>Afghanistan</td>\n      <td>28.801</td>\n      <td>779.445314</td>\n    </tr>\n    <tr>\n      <th>99</th>\n      <td>Bangladesh</td>\n      <td>43.453</td>\n      <td>721.186086</td>\n    </tr>\n    <tr>\n      <th>999</th>\n      <td>Mongolia</td>\n      <td>51.253</td>\n      <td>1226.041130</td>\n    </tr>\n  </tbody>\n</table>\n</div>"
     },
     "execution_count": 2,
     "metadata": {},
     "output_type": "execute_result"
    }
   ],
   "source": [
    "#14 loc 속서을 활용하여 인덱스가 0,99,999인 행에서 'country','lifeExp'\n",
    "\n",
    "df.loc[[0,99,999], ['country','lifeExp','gdpPercap']]"
   ],
   "metadata": {
    "collapsed": false,
    "pycharm": {
     "name": "#%%\n"
    }
   }
  },
  {
   "cell_type": "code",
   "execution_count": 3,
   "outputs": [
    {
     "data": {
      "text/plain": "        country  lifeExp    gdpPercap\n10  Afghanistan   42.129   726.734055\n11  Afghanistan   43.828   974.580338\n12      Albania   55.230  1601.056136\n13      Albania   59.280  1942.284244",
      "text/html": "<div>\n<style scoped>\n    .dataframe tbody tr th:only-of-type {\n        vertical-align: middle;\n    }\n\n    .dataframe tbody tr th {\n        vertical-align: top;\n    }\n\n    .dataframe thead th {\n        text-align: right;\n    }\n</style>\n<table border=\"1\" class=\"dataframe\">\n  <thead>\n    <tr style=\"text-align: right;\">\n      <th></th>\n      <th>country</th>\n      <th>lifeExp</th>\n      <th>gdpPercap</th>\n    </tr>\n  </thead>\n  <tbody>\n    <tr>\n      <th>10</th>\n      <td>Afghanistan</td>\n      <td>42.129</td>\n      <td>726.734055</td>\n    </tr>\n    <tr>\n      <th>11</th>\n      <td>Afghanistan</td>\n      <td>43.828</td>\n      <td>974.580338</td>\n    </tr>\n    <tr>\n      <th>12</th>\n      <td>Albania</td>\n      <td>55.230</td>\n      <td>1601.056136</td>\n    </tr>\n    <tr>\n      <th>13</th>\n      <td>Albania</td>\n      <td>59.280</td>\n      <td>1942.284244</td>\n    </tr>\n  </tbody>\n</table>\n</div>"
     },
     "execution_count": 3,
     "metadata": {},
     "output_type": "execute_result"
    }
   ],
   "source": [
    "#15\n",
    "\n",
    "df.loc[10:13,['country','lifeExp','gdpPercap']]"
   ],
   "metadata": {
    "collapsed": false,
    "pycharm": {
     "name": "#%%\n"
    }
   }
  },
  {
   "cell_type": "code",
   "execution_count": 5,
   "outputs": [
    {
     "data": {
      "text/plain": "year\n1952    49.057620\n1957    51.507401\n1962    53.609249\n1967    55.678290\n1972    57.647386\n1977    59.570157\n1982    61.533197\n1987    63.212613\n1992    64.160338\n1997    65.014676\n2002    65.694923\n2007    67.007423\nName: lifeExp, dtype: float64"
     },
     "execution_count": 5,
     "metadata": {},
     "output_type": "execute_result"
    }
   ],
   "source": [
    "#16\n",
    "\n",
    "df.groupby('year')['lifeExp'].mean()\n"
   ],
   "metadata": {
    "collapsed": false,
    "pycharm": {
     "name": "#%%\n"
    }
   }
  }
 ],
 "metadata": {
  "kernelspec": {
   "display_name": "Python 3",
   "language": "python",
   "name": "python3"
  },
  "language_info": {
   "codemirror_mode": {
    "name": "ipython",
    "version": 2
   },
   "file_extension": ".py",
   "mimetype": "text/x-python",
   "name": "python",
   "nbconvert_exporter": "python",
   "pygments_lexer": "ipython2",
   "version": "2.7.6"
  }
 },
 "nbformat": 4,
 "nbformat_minor": 0
}