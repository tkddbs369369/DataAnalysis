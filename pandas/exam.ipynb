{
 "cells": [
  {
   "cell_type": "code",
   "execution_count": 7,
   "metadata": {
    "collapsed": true,
    "pycharm": {
     "name": "#%%\n"
    }
   },
   "outputs": [
    {
     "data": {
      "text/plain": "         country  lifeExp    gdpPercap\n0    Afghanistan   28.801   779.445314\n99    Bangladesh   43.453   721.186086\n999     Mongolia   51.253  1226.041130",
      "text/html": "<div>\n<style scoped>\n    .dataframe tbody tr th:only-of-type {\n        vertical-align: middle;\n    }\n\n    .dataframe tbody tr th {\n        vertical-align: top;\n    }\n\n    .dataframe thead th {\n        text-align: right;\n    }\n</style>\n<table border=\"1\" class=\"dataframe\">\n  <thead>\n    <tr style=\"text-align: right;\">\n      <th></th>\n      <th>country</th>\n      <th>lifeExp</th>\n      <th>gdpPercap</th>\n    </tr>\n  </thead>\n  <tbody>\n    <tr>\n      <th>0</th>\n      <td>Afghanistan</td>\n      <td>28.801</td>\n      <td>779.445314</td>\n    </tr>\n    <tr>\n      <th>99</th>\n      <td>Bangladesh</td>\n      <td>43.453</td>\n      <td>721.186086</td>\n    </tr>\n    <tr>\n      <th>999</th>\n      <td>Mongolia</td>\n      <td>51.253</td>\n      <td>1226.041130</td>\n    </tr>\n  </tbody>\n</table>\n</div>"
     },
     "execution_count": 7,
     "metadata": {},
     "output_type": "execute_result"
    }
   ],
   "source": [
    "#13\n",
    "import pandas as pd\n",
    "df = pd.read_csv('gapminder.tsv', sep='\\t')\n",
    "df.iloc[[0,99,999], [0,3,5]]"
   ]
  },
  {
   "cell_type": "code",
   "execution_count": 8,
   "outputs": [
    {
     "data": {
      "text/plain": "         country  lifeExp    gdpPercap\n0    Afghanistan   28.801   779.445314\n99    Bangladesh   43.453   721.186086\n999     Mongolia   51.253  1226.041130",
      "text/html": "<div>\n<style scoped>\n    .dataframe tbody tr th:only-of-type {\n        vertical-align: middle;\n    }\n\n    .dataframe tbody tr th {\n        vertical-align: top;\n    }\n\n    .dataframe thead th {\n        text-align: right;\n    }\n</style>\n<table border=\"1\" class=\"dataframe\">\n  <thead>\n    <tr style=\"text-align: right;\">\n      <th></th>\n      <th>country</th>\n      <th>lifeExp</th>\n      <th>gdpPercap</th>\n    </tr>\n  </thead>\n  <tbody>\n    <tr>\n      <th>0</th>\n      <td>Afghanistan</td>\n      <td>28.801</td>\n      <td>779.445314</td>\n    </tr>\n    <tr>\n      <th>99</th>\n      <td>Bangladesh</td>\n      <td>43.453</td>\n      <td>721.186086</td>\n    </tr>\n    <tr>\n      <th>999</th>\n      <td>Mongolia</td>\n      <td>51.253</td>\n      <td>1226.041130</td>\n    </tr>\n  </tbody>\n</table>\n</div>"
     },
     "execution_count": 8,
     "metadata": {},
     "output_type": "execute_result"
    }
   ],
   "source": [
    "#14 loc 속서을 활용하여 인덱스가 0,99,999인 행에서 'country','lifeExp'\n",
    "\n",
    "df.loc[[0,99,999], ['country','lifeExp','gdpPercap']]"
   ],
   "metadata": {
    "collapsed": false,
    "pycharm": {
     "name": "#%%\n"
    }
   }
  },
  {
   "cell_type": "code",
   "execution_count": 9,
   "outputs": [
    {
     "data": {
      "text/plain": "        country  lifeExp    gdpPercap\n10  Afghanistan   42.129   726.734055\n11  Afghanistan   43.828   974.580338\n12      Albania   55.230  1601.056136\n13      Albania   59.280  1942.284244",
      "text/html": "<div>\n<style scoped>\n    .dataframe tbody tr th:only-of-type {\n        vertical-align: middle;\n    }\n\n    .dataframe tbody tr th {\n        vertical-align: top;\n    }\n\n    .dataframe thead th {\n        text-align: right;\n    }\n</style>\n<table border=\"1\" class=\"dataframe\">\n  <thead>\n    <tr style=\"text-align: right;\">\n      <th></th>\n      <th>country</th>\n      <th>lifeExp</th>\n      <th>gdpPercap</th>\n    </tr>\n  </thead>\n  <tbody>\n    <tr>\n      <th>10</th>\n      <td>Afghanistan</td>\n      <td>42.129</td>\n      <td>726.734055</td>\n    </tr>\n    <tr>\n      <th>11</th>\n      <td>Afghanistan</td>\n      <td>43.828</td>\n      <td>974.580338</td>\n    </tr>\n    <tr>\n      <th>12</th>\n      <td>Albania</td>\n      <td>55.230</td>\n      <td>1601.056136</td>\n    </tr>\n    <tr>\n      <th>13</th>\n      <td>Albania</td>\n      <td>59.280</td>\n      <td>1942.284244</td>\n    </tr>\n  </tbody>\n</table>\n</div>"
     },
     "execution_count": 9,
     "metadata": {},
     "output_type": "execute_result"
    }
   ],
   "source": [
    "#15\n",
    "\n",
    "df.loc[10:13,['country','lifeExp','gdpPercap']]"
   ],
   "metadata": {
    "collapsed": false,
    "pycharm": {
     "name": "#%%\n"
    }
   }
  },
  {
   "cell_type": "code",
   "execution_count": 10,
   "outputs": [
    {
     "data": {
      "text/plain": "year\n1952    49.057620\n1957    51.507401\n1962    53.609249\n1967    55.678290\n1972    57.647386\n1977    59.570157\n1982    61.533197\n1987    63.212613\n1992    64.160338\n1997    65.014676\n2002    65.694923\n2007    67.007423\nName: lifeExp, dtype: float64"
     },
     "execution_count": 10,
     "metadata": {},
     "output_type": "execute_result"
    }
   ],
   "source": [
    "#16\n",
    "\n",
    "df.groupby('year')['lifeExp'].mean()\n"
   ],
   "metadata": {
    "collapsed": false,
    "pycharm": {
     "name": "#%%\n"
    }
   }
  },
  {
   "cell_type": "code",
   "execution_count": 14,
   "outputs": [
    {
     "data": {
      "text/plain": "                  lifeExp     gdpPercap\nyear continent                         \n1952 Africa     39.135500   1252.572466\n     Americas   53.279840   4079.062552\n     Asia       46.314394   5195.484004\n     Europe     64.408500   5661.057435\n     Oceania    69.255000  10298.085650\n1957 Africa     41.266346   1385.236062\n     Americas   55.960280   4616.043733\n     Asia       49.318544   5787.732940\n     Europe     66.703067   6963.012816\n     Oceania    70.295000  11598.522455\n1962 Africa     43.319442   1598.078825\n     Americas   58.398760   4901.541870\n     Asia       51.563223   5729.369625\n     Europe     68.539233   8365.486814\n     Oceania    71.085000  12696.452430\n1967 Africa     45.334538   2050.363801\n     Americas   60.410920   5668.253496\n     Asia       54.663640   5971.173374\n     Europe     69.737600  10143.823757\n     Oceania    71.310000  14495.021790\n1972 Africa     47.450942   2339.615674\n     Americas   62.394920   6491.334139\n     Asia       57.319269   8187.468699\n     Europe     70.775033  12479.575246\n     Oceania    71.910000  16417.333380\n1977 Africa     49.580423   2585.938508\n     Americas   64.391560   7352.007126\n     Asia       59.610556   7791.314020\n     Europe     71.937767  14283.979110\n     Oceania    72.855000  17283.957605\n1982 Africa     51.592865   2481.592960\n     Americas   66.228840   7506.737088\n     Asia       62.617939   7434.135157\n     Europe     72.806400  15617.896551\n     Oceania    74.290000  18554.709840\n1987 Africa     53.344788   2282.668991\n     Americas   68.090720   7793.400261\n     Asia       64.851182   7608.226508\n     Europe     73.642167  17214.310727\n     Oceania    75.320000  20448.040160\n1992 Africa     53.629577   2281.810333\n     Americas   69.568360   8044.934406\n     Asia       66.537212   8639.690248\n     Europe     74.440100  17061.568084\n     Oceania    76.945000  20894.045885\n1997 Africa     53.598269   2378.759555\n     Americas   71.150480   8889.300863\n     Asia       68.020515   9834.093295\n     Europe     75.505167  19076.781802\n     Oceania    78.190000  24024.175170\n2002 Africa     53.325231   2599.385159\n     Americas   72.422040   9287.677107\n     Asia       69.233879  10174.090397\n     Europe     76.700600  21711.732422\n     Oceania    79.740000  26938.778040\n2007 Africa     54.806038   3089.032605\n     Americas   73.608120  11003.031625\n     Asia       70.728485  12473.026870\n     Europe     77.648600  25054.481636\n     Oceania    80.719500  29810.188275",
      "text/html": "<div>\n<style scoped>\n    .dataframe tbody tr th:only-of-type {\n        vertical-align: middle;\n    }\n\n    .dataframe tbody tr th {\n        vertical-align: top;\n    }\n\n    .dataframe thead th {\n        text-align: right;\n    }\n</style>\n<table border=\"1\" class=\"dataframe\">\n  <thead>\n    <tr style=\"text-align: right;\">\n      <th></th>\n      <th></th>\n      <th>lifeExp</th>\n      <th>gdpPercap</th>\n    </tr>\n    <tr>\n      <th>year</th>\n      <th>continent</th>\n      <th></th>\n      <th></th>\n    </tr>\n  </thead>\n  <tbody>\n    <tr>\n      <th rowspan=\"5\" valign=\"top\">1952</th>\n      <th>Africa</th>\n      <td>39.135500</td>\n      <td>1252.572466</td>\n    </tr>\n    <tr>\n      <th>Americas</th>\n      <td>53.279840</td>\n      <td>4079.062552</td>\n    </tr>\n    <tr>\n      <th>Asia</th>\n      <td>46.314394</td>\n      <td>5195.484004</td>\n    </tr>\n    <tr>\n      <th>Europe</th>\n      <td>64.408500</td>\n      <td>5661.057435</td>\n    </tr>\n    <tr>\n      <th>Oceania</th>\n      <td>69.255000</td>\n      <td>10298.085650</td>\n    </tr>\n    <tr>\n      <th rowspan=\"5\" valign=\"top\">1957</th>\n      <th>Africa</th>\n      <td>41.266346</td>\n      <td>1385.236062</td>\n    </tr>\n    <tr>\n      <th>Americas</th>\n      <td>55.960280</td>\n      <td>4616.043733</td>\n    </tr>\n    <tr>\n      <th>Asia</th>\n      <td>49.318544</td>\n      <td>5787.732940</td>\n    </tr>\n    <tr>\n      <th>Europe</th>\n      <td>66.703067</td>\n      <td>6963.012816</td>\n    </tr>\n    <tr>\n      <th>Oceania</th>\n      <td>70.295000</td>\n      <td>11598.522455</td>\n    </tr>\n    <tr>\n      <th rowspan=\"5\" valign=\"top\">1962</th>\n      <th>Africa</th>\n      <td>43.319442</td>\n      <td>1598.078825</td>\n    </tr>\n    <tr>\n      <th>Americas</th>\n      <td>58.398760</td>\n      <td>4901.541870</td>\n    </tr>\n    <tr>\n      <th>Asia</th>\n      <td>51.563223</td>\n      <td>5729.369625</td>\n    </tr>\n    <tr>\n      <th>Europe</th>\n      <td>68.539233</td>\n      <td>8365.486814</td>\n    </tr>\n    <tr>\n      <th>Oceania</th>\n      <td>71.085000</td>\n      <td>12696.452430</td>\n    </tr>\n    <tr>\n      <th rowspan=\"5\" valign=\"top\">1967</th>\n      <th>Africa</th>\n      <td>45.334538</td>\n      <td>2050.363801</td>\n    </tr>\n    <tr>\n      <th>Americas</th>\n      <td>60.410920</td>\n      <td>5668.253496</td>\n    </tr>\n    <tr>\n      <th>Asia</th>\n      <td>54.663640</td>\n      <td>5971.173374</td>\n    </tr>\n    <tr>\n      <th>Europe</th>\n      <td>69.737600</td>\n      <td>10143.823757</td>\n    </tr>\n    <tr>\n      <th>Oceania</th>\n      <td>71.310000</td>\n      <td>14495.021790</td>\n    </tr>\n    <tr>\n      <th rowspan=\"5\" valign=\"top\">1972</th>\n      <th>Africa</th>\n      <td>47.450942</td>\n      <td>2339.615674</td>\n    </tr>\n    <tr>\n      <th>Americas</th>\n      <td>62.394920</td>\n      <td>6491.334139</td>\n    </tr>\n    <tr>\n      <th>Asia</th>\n      <td>57.319269</td>\n      <td>8187.468699</td>\n    </tr>\n    <tr>\n      <th>Europe</th>\n      <td>70.775033</td>\n      <td>12479.575246</td>\n    </tr>\n    <tr>\n      <th>Oceania</th>\n      <td>71.910000</td>\n      <td>16417.333380</td>\n    </tr>\n    <tr>\n      <th rowspan=\"5\" valign=\"top\">1977</th>\n      <th>Africa</th>\n      <td>49.580423</td>\n      <td>2585.938508</td>\n    </tr>\n    <tr>\n      <th>Americas</th>\n      <td>64.391560</td>\n      <td>7352.007126</td>\n    </tr>\n    <tr>\n      <th>Asia</th>\n      <td>59.610556</td>\n      <td>7791.314020</td>\n    </tr>\n    <tr>\n      <th>Europe</th>\n      <td>71.937767</td>\n      <td>14283.979110</td>\n    </tr>\n    <tr>\n      <th>Oceania</th>\n      <td>72.855000</td>\n      <td>17283.957605</td>\n    </tr>\n    <tr>\n      <th rowspan=\"5\" valign=\"top\">1982</th>\n      <th>Africa</th>\n      <td>51.592865</td>\n      <td>2481.592960</td>\n    </tr>\n    <tr>\n      <th>Americas</th>\n      <td>66.228840</td>\n      <td>7506.737088</td>\n    </tr>\n    <tr>\n      <th>Asia</th>\n      <td>62.617939</td>\n      <td>7434.135157</td>\n    </tr>\n    <tr>\n      <th>Europe</th>\n      <td>72.806400</td>\n      <td>15617.896551</td>\n    </tr>\n    <tr>\n      <th>Oceania</th>\n      <td>74.290000</td>\n      <td>18554.709840</td>\n    </tr>\n    <tr>\n      <th rowspan=\"5\" valign=\"top\">1987</th>\n      <th>Africa</th>\n      <td>53.344788</td>\n      <td>2282.668991</td>\n    </tr>\n    <tr>\n      <th>Americas</th>\n      <td>68.090720</td>\n      <td>7793.400261</td>\n    </tr>\n    <tr>\n      <th>Asia</th>\n      <td>64.851182</td>\n      <td>7608.226508</td>\n    </tr>\n    <tr>\n      <th>Europe</th>\n      <td>73.642167</td>\n      <td>17214.310727</td>\n    </tr>\n    <tr>\n      <th>Oceania</th>\n      <td>75.320000</td>\n      <td>20448.040160</td>\n    </tr>\n    <tr>\n      <th rowspan=\"5\" valign=\"top\">1992</th>\n      <th>Africa</th>\n      <td>53.629577</td>\n      <td>2281.810333</td>\n    </tr>\n    <tr>\n      <th>Americas</th>\n      <td>69.568360</td>\n      <td>8044.934406</td>\n    </tr>\n    <tr>\n      <th>Asia</th>\n      <td>66.537212</td>\n      <td>8639.690248</td>\n    </tr>\n    <tr>\n      <th>Europe</th>\n      <td>74.440100</td>\n      <td>17061.568084</td>\n    </tr>\n    <tr>\n      <th>Oceania</th>\n      <td>76.945000</td>\n      <td>20894.045885</td>\n    </tr>\n    <tr>\n      <th rowspan=\"5\" valign=\"top\">1997</th>\n      <th>Africa</th>\n      <td>53.598269</td>\n      <td>2378.759555</td>\n    </tr>\n    <tr>\n      <th>Americas</th>\n      <td>71.150480</td>\n      <td>8889.300863</td>\n    </tr>\n    <tr>\n      <th>Asia</th>\n      <td>68.020515</td>\n      <td>9834.093295</td>\n    </tr>\n    <tr>\n      <th>Europe</th>\n      <td>75.505167</td>\n      <td>19076.781802</td>\n    </tr>\n    <tr>\n      <th>Oceania</th>\n      <td>78.190000</td>\n      <td>24024.175170</td>\n    </tr>\n    <tr>\n      <th rowspan=\"5\" valign=\"top\">2002</th>\n      <th>Africa</th>\n      <td>53.325231</td>\n      <td>2599.385159</td>\n    </tr>\n    <tr>\n      <th>Americas</th>\n      <td>72.422040</td>\n      <td>9287.677107</td>\n    </tr>\n    <tr>\n      <th>Asia</th>\n      <td>69.233879</td>\n      <td>10174.090397</td>\n    </tr>\n    <tr>\n      <th>Europe</th>\n      <td>76.700600</td>\n      <td>21711.732422</td>\n    </tr>\n    <tr>\n      <th>Oceania</th>\n      <td>79.740000</td>\n      <td>26938.778040</td>\n    </tr>\n    <tr>\n      <th rowspan=\"5\" valign=\"top\">2007</th>\n      <th>Africa</th>\n      <td>54.806038</td>\n      <td>3089.032605</td>\n    </tr>\n    <tr>\n      <th>Americas</th>\n      <td>73.608120</td>\n      <td>11003.031625</td>\n    </tr>\n    <tr>\n      <th>Asia</th>\n      <td>70.728485</td>\n      <td>12473.026870</td>\n    </tr>\n    <tr>\n      <th>Europe</th>\n      <td>77.648600</td>\n      <td>25054.481636</td>\n    </tr>\n    <tr>\n      <th>Oceania</th>\n      <td>80.719500</td>\n      <td>29810.188275</td>\n    </tr>\n  </tbody>\n</table>\n</div>"
     },
     "execution_count": 14,
     "metadata": {},
     "output_type": "execute_result"
    }
   ],
   "source": [
    "#17\n",
    "\n",
    "\n",
    "multi = df.groupby(['year','continent'])[['lifeExp','gdpPercap']].mean()\n",
    "multi"
   ],
   "metadata": {
    "collapsed": false,
    "pycharm": {
     "name": "#%%\n"
    }
   }
  },
  {
   "cell_type": "code",
   "execution_count": 17,
   "outputs": [
    {
     "data": {
      "text/plain": "continent\nAfrica      52\nAmericas    25\nAsia        33\nEurope      30\nOceania      2\nName: country, dtype: int64"
     },
     "execution_count": 17,
     "metadata": {},
     "output_type": "execute_result"
    }
   ],
   "source": [
    "# 18\n",
    "df.groupby('continent')['country'].nunique()"
   ],
   "metadata": {
    "collapsed": false,
    "pycharm": {
     "name": "#%%\n"
    }
   }
  },
  {
   "cell_type": "markdown",
   "source": [
    "제 인생의 좌우명은 `남에게 피해를 주지 말자 입니다.` 저는 훌륭한 대학과 회사를 나오신 부모님 밑에서 경제적 어려움 없이 태어났고 선생님이었던 할머니 밑에서 자랐습니다. 그러다 보니 부모님께서 저만 돌봐주실 수 없었고 학교에서 항상 문제를 만들어내던 문제아였습니다. 그럴 때마다 부모님은 남에게 피해를 주지 말고 일단 양보하라는 사실을 강조하셨습니다. 그때는 그게 어떤 뜻인지 잘 몰랐지만, 지금은 잘 알 수 있습니다. 몇 년 전 사람이 많은 대중교통을 탈 때였습니다. 사람이 많아 가방이 방해되니 저는 평소처럼 더러워지더라도 가방을 바닥에 두었습니다. 그러자 뒤에 있는 분이 감사의 마음을 전했습니다. 그 사소한 말이 저에게 큰 인상을 남겼습니다. 제 사소한 행동이 우리 사회를 더 따듯하게 바꿀 수 있다니 정말 뿌듯했습니다. 그 후로 부모님이 말씀하신 이유를 이해했고 지금도 명심하고 실천하고 있습니다."
   ],
   "metadata": {
    "collapsed": false,
    "pycharm": {
     "name": "#%% md\n"
    }
   }
  }
 ],
 "metadata": {
  "kernelspec": {
   "display_name": "Python 3",
   "language": "python",
   "name": "python3"
  },
  "language_info": {
   "codemirror_mode": {
    "name": "ipython",
    "version": 2
   },
   "file_extension": ".py",
   "mimetype": "text/x-python",
   "name": "python",
   "nbconvert_exporter": "python",
   "pygments_lexer": "ipython2",
   "version": "2.7.6"
  }
 },
 "nbformat": 4,
 "nbformat_minor": 0
}