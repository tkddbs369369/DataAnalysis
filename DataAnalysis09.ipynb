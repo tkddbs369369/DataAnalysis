{
 "cells": [
  {
   "cell_type": "code",
   "execution_count": 165,
   "metadata": {
    "collapsed": true,
    "pycharm": {
     "name": "#%%\n"
    }
   },
   "outputs": [
    {
     "name": "stdout",
     "output_type": "stream",
     "text": [
      "['2019-01', '1호선', '0150', '서울역', 1516452, 1400464, 221180, 211764] 6.86\n",
      "['2019-01', '1호선', '0152', '종각', 1240810, 1177643, 162410, 152062] 7.64\n",
      "['2019-01', '2호선', '0201', '시청', 706097, 679503, 61058, 55387] 11.56\n",
      "['2019-01', '2호선', '0202', '을지로입구', 1415414, 1414980, 120425, 111592] 11.75\n",
      "['2019-01', '2호선', '0209', '한양대', 233785, 256079, 15380, 16652] 15.2\n",
      "['2019-01', '2호선', '0222', '강남', 3153418, 3210437, 186486, 167666] 16.91\n",
      "['2019-01', '2호선', '0239', '홍대입구', 2351935, 2507561, 114832, 111488] 20.48\n",
      "['2019-01', '3호선', '0321', '충무로', 55, 0, 2, 0] 27.5\n",
      "\n"
     ]
    }
   ],
   "source": [
    "import csv\n",
    "f = open('subwayfee.csv')\n",
    "data = csv.reader(f)\n",
    "next(data)\n",
    "\n",
    "mx = 0\n",
    "rate = 0\n",
    "\n",
    "\n",
    "\n",
    "for row in data:\n",
    "\n",
    "\n",
    "    for i in range(4,8):\n",
    "        row[i]=int(row[i])\n",
    "\n",
    "    if row[6] != 0:\n",
    "        rate = row[4] / row[6] # 비율 계싼\n",
    "\n",
    "    if rate>mx:\n",
    "        mx = rate\n",
    "        print(row,round(rate,2))\n",
    "\n",
    "print()"
   ]
  },
  {
   "cell_type": "code",
   "execution_count": 189,
   "outputs": [
    {
     "name": "stdout",
     "output_type": "stream",
     "text": [
      "['2019-01', '1호선', '0150', '서울역', 1516452, 1400464, 221180, 211764] 0.873\n",
      "['2019-01', '1호선', '0152', '종각', 1240810, 1177643, 162410, 152062] 0.884\n",
      "['2019-01', '2호선', '0201', '시청', 706097, 679503, 61058, 55387] 0.92\n",
      "['2019-01', '2호선', '0202', '을지로입구', 1415414, 1414980, 120425, 111592] 0.922\n",
      "['2019-01', '2호선', '0209', '한양대', 233785, 256079, 15380, 16652] 0.938\n",
      "['2019-01', '2호선', '0222', '강남', 3153418, 3210437, 186486, 167666] 0.944\n",
      "['2019-01', '2호선', '0239', '홍대입구', 2351935, 2507561, 114832, 111488] 0.953\n",
      "['2019-01', '3호선', '0321', '충무로', 55, 0, 2, 0] 0.965\n",
      "\n"
     ]
    }
   ],
   "source": [
    "import csv\n",
    "f = open('subwayfee.csv')\n",
    "data = csv.reader(f)\n",
    "next(data)\n",
    "\n",
    "mx = 0\n",
    "rate = 0\n",
    "\n",
    "\n",
    "\n",
    "for row in data:\n",
    "\n",
    "\n",
    "    for i in range(4,8):\n",
    "        row[i]=int(row[i])\n",
    "\n",
    "    if row[6] != 0:\n",
    "        rate = row[4]/ (row[6]+row[4])  # 비율 계싼\n",
    "\n",
    "    if rate>mx:\n",
    "        mx = rate\n",
    "        print(row,round(rate,3))\n",
    "\n",
    "print()"
   ],
   "metadata": {
    "collapsed": false,
    "pycharm": {
     "name": "#%%\n"
    }
   }
  },
  {
   "cell_type": "markdown",
   "source": [
    ">변경전 = 유임/무임\n",
    "\n",
    ">후 = 유임 / 무임+유임"
   ],
   "metadata": {
    "collapsed": false,
    "pycharm": {
     "name": "#%% md\n"
    }
   }
  },
  {
   "cell_type": "markdown",
   "source": [
    "유임승차비율가장높은역찾기"
   ],
   "metadata": {
    "collapsed": false,
    "pycharm": {
     "name": "#%% md\n"
    }
   }
  },
  {
   "cell_type": "code",
   "execution_count": null,
   "outputs": [],
   "source": [
    "#홍대입구 2호선 95.34\n",
    "csv.reader(f)\n",
    "#조건 추가 (row[4]+row[6]>100000"
   ],
   "metadata": {
    "collapsed": false,
    "pycharm": {
     "name": "#%%\n"
    }
   }
  },
  {
   "cell_type": "code",
   "execution_count": 192,
   "outputs": [
    {
     "name": "stdout",
     "output_type": "stream",
     "text": [
      "홍대입구 2호선 95.34\n"
     ]
    }
   ],
   "source": [
    "import csv\n",
    "f=open('subwayfee.csv')\n",
    "data = csv.reader(f)\n",
    "next(data)\n",
    "\n",
    "mx = 0\n",
    "rate = 0\n",
    "mx_station=''\n",
    "\n",
    "for row in data:\n",
    "\n",
    "\n",
    "\n",
    "\n",
    "\n",
    "\n",
    "\n",
    "\n",
    "\n",
    "\n",
    "\n",
    "\n",
    "\n",
    "    .............\n",
    "    for i in range(4,8):\n",
    "        row[i] = int(row[i])\n",
    "\n",
    "    if row[6]!=0 and (row[4]+row[6]) >100000:\n",
    "        rate = row[4] / (row[4]+row[6])\n",
    "        if rate > mx:\n",
    "            mx = rate\n",
    "            mx_station= row[3]+ ' '+ row[1]\n",
    "\n",
    "\n",
    "print(mx_station, round(mx*100,2))\n",
    "\n"
   ],
   "metadata": {
    "collapsed": false,
    "pycharm": {
     "name": "#%%\n"
    }
   }
  }
 ],
 "metadata": {
  "kernelspec": {
   "display_name": "Python 3",
   "language": "python",
   "name": "python3"
  },
  "language_info": {
   "codemirror_mode": {
    "name": "ipython",
    "version": 2
   },
   "file_extension": ".py",
   "mimetype": "text/x-python",
   "name": "python",
   "nbconvert_exporter": "python",
   "pygments_lexer": "ipython2",
   "version": "2.7.6"
  }
 },
 "nbformat": 4,
 "nbformat_minor": 0
}