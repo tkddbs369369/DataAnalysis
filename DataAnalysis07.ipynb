{
 "cells": [
  {
   "cell_type": "markdown",
   "metadata": {
    "collapsed": true,
    "pycharm": {
     "name": "#%% md\n"
    }
   },
   "source": [
    "### 혈액형 비율을 파이차트로 표현하기"
   ]
  },
  {
   "cell_type": "code",
   "execution_count": null,
   "outputs": [],
   "source": [
    "import matplotlib.pyplot as plt\n",
    "plt.pie([10,20])\n",
    "plt.show()"
   ],
   "metadata": {
    "collapsed": false,
    "pycharm": {
     "name": "#%%\n"
    }
   }
  },
  {
   "cell_type": "code",
   "execution_count": null,
   "outputs": [],
   "source": [
    "import matplotlib.pyplot as plt\n",
    "size = [2441,2312,1031,1233]\n",
    "plt.axis('equal')\n",
    "plt.pie([10,20])\n",
    "plt.pie(size)\n",
    "plt.show()"
   ],
   "metadata": {
    "collapsed": false,
    "pycharm": {
     "name": "#%%\n"
    }
   }
  },
  {
   "cell_type": "code",
   "execution_count": null,
   "outputs": [],
   "source": [
    "import matplotlib.pyplot as plt\n",
    "plt.rc('font', family='Malgun Gothic')\n",
    "size = [2441,2312,1031,1233]\n",
    "lable = ['A형','B형','AB형','O형']\n",
    "plt.axis('equal')\n",
    "plt.pie(size, labels=lable)\n",
    "plt.show()"
   ],
   "metadata": {
    "collapsed": false,
    "pycharm": {
     "name": "#%%\n"
    }
   }
  },
  {
   "cell_type": "code",
   "execution_count": null,
   "outputs": [],
   "source": [
    "import matplotlib.pyplot as plt\n",
    "plt.rc('font', family='Malgun Gothic')\n",
    "size = [2441,2312,1031,1233]\n",
    "lable = ['A형','B형','AB형','O형']\n",
    "plt.axis('equal')\n",
    "plt.pie(size, labels=lable, autopct='%.1f%%')\n",
    "plt.show()"
   ],
   "metadata": {
    "collapsed": false,
    "pycharm": {
     "name": "#%%\n"
    }
   }
  },
  {
   "cell_type": "code",
   "execution_count": null,
   "outputs": [],
   "source": [
    "import matplotlib.pyplot as plt\n",
    "plt.rc('font', family='Malgun Gothic')\n",
    "size = [2441,2312,1031,1233]\n",
    "lable = ['A형','B형','AB형','O형']\n",
    "plt.axis('equal')\n",
    "color= ['darkmagenta','deeppink','hotpink','pink']\n",
    "plt.pie(size, labels=lable, autopct='%.1f%%', colors=color, explode=(0,0,0.5,0))\n",
    "plt.show()"
   ],
   "metadata": {
    "collapsed": false,
    "pycharm": {
     "name": "#%%\n"
    }
   }
  },
  {
   "cell_type": "code",
   "execution_count": null,
   "outputs": [],
   "source": [
    "import csv\n",
    "\n",
    "f = open('gender.csv')\n",
    "data = csv.reader(f)\n",
    "name=input()\n",
    "size = []\n",
    "for i in data:\n",
    "    if name in i[0]:\n",
    "        m = 0\n",
    "        f = 0\n",
    "        for a in range(101):\n",
    "            m += int(i[a+3])\n",
    "            f += int(i[a+106])\n",
    "            break\n",
    "\n",
    "size.append(m)\n",
    "size.append(f)\n",
    "print(size)"
   ],
   "metadata": {
    "collapsed": false,
    "pycharm": {
     "name": "#%%\n"
    }
   }
  },
  {
   "cell_type": "code",
   "execution_count": 18,
   "outputs": [
    {
     "data": {
      "text/plain": "<Figure size 432x288 with 1 Axes>",
      "image/png": "[encoded data removed]"
     },
     "metadata": {},
     "output_type": "display_data"
    }
   ],
   "source": [
    "import csv\n",
    "f=open(\"gender.csv\")\n",
    "data = csv.reader(f)\n",
    "\n",
    "size=[]\n",
    "\n",
    "name = input(\"찾고싶운 지역\")\n",
    "\n",
    "for i in data:\n",
    "    if name in i[0]:\n",
    "        m = 0\n",
    "        f = 0\n",
    "        for a in range(101):\n",
    "            m+=int(i[a+3])\n",
    "            f+=int(i[a+106])\n",
    "\n",
    "\n",
    "\n",
    "size.append(m)\n",
    "size.append(f)\n",
    "\n",
    "import matplotlib.pyplot as plt\n",
    "\n",
    "plt.rc('font', family='Malgun Gothic')\n",
    "color = ['crimson','darkcyan']\n",
    "plt.axis('equal')\n",
    "\n",
    "\n",
    "\n",
    "\n",
    "plt.pie(size, labels=['남','여'], autopct='%.1f%%', colors=color, startangle=90 )\n",
    "\n",
    "plt.title(name+'지역의 남녀 성별 비율')\n",
    "plt.show()"
   ],
   "metadata": {
    "collapsed": false,
    "pycharm": {
     "name": "#%%\n"
    }
   }
  }
 ],
 "metadata": {
  "kernelspec": {
   "display_name": "Python 3",
   "language": "python",
   "name": "python3"
  },
  "language_info": {
   "codemirror_mode": {
    "name": "ipython",
    "version": 2
   },
   "file_extension": ".py",
   "mimetype": "text/x-python",
   "name": "python",
   "nbconvert_exporter": "python",
   "pygments_lexer": "ipython2",
   "version": "2.7.6"
  }
 },
 "nbformat": 4,
 "nbformat_minor": 0
}